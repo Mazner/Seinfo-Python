{
 "cells": [
  {
   "attachments": {},
   "cell_type": "markdown",
   "metadata": {},
   "source": [
    "## Python para Geeks e Perfeccionistas\n",
    "\n",
    "### Programação funcional\n",
    "\n",
    "Facilita a programação paralela;\n",
    "\n",
    "Mapeamento de funções;\n",
    "\n",
    "## Função map  \n",
    "### realiza o mapeamento de uma lista para uma determinada função\n",
    "\n",
    "map(nome_função, lista) - retorna uma nova lista com a função aplicada em forma de objeto"
   ]
  },
  {
   "cell_type": "code",
   "execution_count": 20,
   "metadata": {},
   "outputs": [
    {
     "name": "stdout",
     "output_type": "stream",
     "text": [
      "[3, 6, 9, 12, 15, 18, 21, 24, 27]\n"
     ]
    }
   ],
   "source": [
    "# def vezes3(x):\n",
    "#     return x*3\n",
    "\n",
    "# numeros = [1,2,3,4,5,6,7,8,9]\n",
    "numeros = range(1,10)\n",
    "# numeros_vezes_3 = list()\n",
    "# for num in numeros:\n",
    "#     numeros_vezes_3.append(vezes3(num))\n",
    "numeros_vezes_3 = list(map(lambda x: x*3,numeros))\n",
    "\n",
    "print(numeros_vezes_3)"
   ]
  },
  {
   "attachments": {},
   "cell_type": "markdown",
   "metadata": {},
   "source": [
    "### Utilizando o filter\n",
    "Utilizado para selecionar os dados com base em um filtro, uma expressão lógica\n",
    "\n",
    "#### filter(func.log,iterável)"
   ]
  },
  {
   "cell_type": "code",
   "execution_count": 34,
   "metadata": {},
   "outputs": [
    {
     "name": "stdout",
     "output_type": "stream",
     "text": [
      "[6, 12, 18, 24, 30, 36, 42, 48, 54, 60, 66, 72, 78, 84]\n"
     ]
    }
   ],
   "source": [
    "nums = list(map(lambda x: x*3,range(1,30)))\n",
    "pares = list(filter(lambda x: x % 2 == 0,nums))\n",
    "print(pares)"
   ]
  },
  {
   "attachments": {},
   "cell_type": "markdown",
   "metadata": {},
   "source": [
    "### List compreenhensions\n",
    "[map,laço,filter]"
   ]
  },
  {
   "cell_type": "code",
   "execution_count": 39,
   "metadata": {},
   "outputs": [
    {
     "name": "stdout",
     "output_type": "stream",
     "text": [
      "[1, 9, 25, 49, 81, 121, 169, 225, 289, 361, 441, 529, 625, 729, 841]\n"
     ]
    }
   ],
   "source": [
    "impares = [x**2 for x in range(1,30) if x % 2 == 1]\n",
    "print(impares)"
   ]
  },
  {
   "cell_type": "code",
   "execution_count": null,
   "metadata": {},
   "outputs": [],
   "source": []
  }
 ],
 "metadata": {
  "kernelspec": {
   "display_name": "Python 3",
   "language": "python",
   "name": "python3"
  },
  "language_info": {
   "name": "python",
   "version": "3.10.6"
  },
  "orig_nbformat": 4,
  "vscode": {
   "interpreter": {
    "hash": "e7370f93d1d0cde622a1f8e1c04877d8463912d04d973331ad4851f04de6915a"
   }
  }
 },
 "nbformat": 4,
 "nbformat_minor": 2
}
