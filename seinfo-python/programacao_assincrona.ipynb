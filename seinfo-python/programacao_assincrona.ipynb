{
 "cells": [
  {
   "attachments": {},
   "cell_type": "markdown",
   "metadata": {},
   "source": [
    "# Programação concorrente e assíncrona\n",
    "utiliza-se da biblioteca asyncio\n",
    "\n",
    "ideia de assincronicidade, enquanto faz alguma coisa, executar outra.\n",
    "\n",
    "fazer algo enquanto espera o resultado de algo."
   ]
  },
  {
   "cell_type": "code",
   "execution_count": 9,
   "metadata": {},
   "outputs": [
    {
     "name": "stdout",
     "output_type": "stream",
     "text": [
      "ANTES...\n",
      "ANTES...\n",
      "ANTES...\n",
      "DEPOIS\n",
      "DEPOIS\n",
      "DEPOIS\n",
      "executou em 2.01 segundos...\n"
     ]
    }
   ],
   "source": [
    "import asyncio\n",
    "from time import sleep, perf_counter\n",
    "\n",
    "async def count():\n",
    "    print(\"ANTES...\")\n",
    "    await asyncio.sleep(2)\n",
    "    print(\"DEPOIS\")\n",
    "\n",
    "async def main():\n",
    "    await asyncio.gather(count(),count(),count())\n",
    "\n",
    "if __name__ == '__main__':\n",
    "    a = perf_counter()\n",
    "    await main()\n",
    "    tempo = perf_counter() - a\n",
    "    print(f'executou em {tempo:0.2f} segundos...')"
   ]
  },
  {
   "cell_type": "code",
   "execution_count": null,
   "metadata": {},
   "outputs": [],
   "source": []
  }
 ],
 "metadata": {
  "kernelspec": {
   "display_name": "Python 3",
   "language": "python",
   "name": "python3"
  },
  "language_info": {
   "codemirror_mode": {
    "name": "ipython",
    "version": 3
   },
   "file_extension": ".py",
   "mimetype": "text/x-python",
   "name": "python",
   "nbconvert_exporter": "python",
   "pygments_lexer": "ipython3",
   "version": "3.10.6"
  },
  "orig_nbformat": 4,
  "vscode": {
   "interpreter": {
    "hash": "e7370f93d1d0cde622a1f8e1c04877d8463912d04d973331ad4851f04de6915a"
   }
  }
 },
 "nbformat": 4,
 "nbformat_minor": 2
}
