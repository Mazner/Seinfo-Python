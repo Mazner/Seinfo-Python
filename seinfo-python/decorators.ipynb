{
 "cells": [
  {
   "attachments": {},
   "cell_type": "markdown",
   "metadata": {},
   "source": [
    "# *Decorators*\n",
    "códigos que decoram funções ou decoram chamadas\n",
    "\n",
    "args = arguments;\n",
    "kwargs = keywords arguments.\n"
   ]
  },
  {
   "cell_type": "code",
   "execution_count": 19,
   "metadata": {},
   "outputs": [
    {
     "name": "stdout",
     "output_type": "stream",
     "text": [
      "codigo executado ANTES da função\n",
      "minha função mostrando o funcionamento do decorator!\n",
      "código executado DEPOIS da função\n"
     ]
    }
   ],
   "source": [
    "def perfumaria(func):\n",
    "    def wrapper(*args, **kwargs):\n",
    "        print('codigo executado ANTES da função')\n",
    "        res = func(*args, **kwargs)\n",
    "        print('código executado DEPOIS da função')\n",
    "        return res\n",
    "    return wrapper\n",
    "\n",
    "@perfumaria\n",
    "def minha_funcao(var):\n",
    "    print(f'minha função mostrando {var}!')\n",
    "\n",
    "minha_funcao('o funcionamento do decorator')"
   ]
  },
  {
   "attachments": {},
   "cell_type": "markdown",
   "metadata": {},
   "source": [
    "### Quando asterisco sozinho = tupla\n",
    "### Quando asterisco duplo = chave e valor (dicionário)"
   ]
  },
  {
   "cell_type": "code",
   "execution_count": 13,
   "metadata": {},
   "outputs": [
    {
     "name": "stdout",
     "output_type": "stream",
     "text": [
      "var1\n",
      "var2\n",
      "(1, 5, 6, 6, 'stringada', 34, 6.3)\n",
      "{'dez': 10, 'vinte': 20, 'trinta': 30}\n"
     ]
    }
   ],
   "source": [
    "def teste(a,b = 10, *c, **d):\n",
    "    print(a)\n",
    "    print(b)\n",
    "    print(c)\n",
    "    print(d)\n",
    "\n",
    "teste('var1','var2',1,5,6,6,'stringada',34,6.3, dez = 10, vinte = 20, trinta = 30)"
   ]
  }
 ],
 "metadata": {
  "kernelspec": {
   "display_name": "Python 3",
   "language": "python",
   "name": "python3"
  },
  "language_info": {
   "codemirror_mode": {
    "name": "ipython",
    "version": 3
   },
   "file_extension": ".py",
   "mimetype": "text/x-python",
   "name": "python",
   "nbconvert_exporter": "python",
   "pygments_lexer": "ipython3",
   "version": "3.10.6"
  },
  "orig_nbformat": 4,
  "vscode": {
   "interpreter": {
    "hash": "e7370f93d1d0cde622a1f8e1c04877d8463912d04d973331ad4851f04de6915a"
   }
  }
 },
 "nbformat": 4,
 "nbformat_minor": 2
}
